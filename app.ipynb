{
 "cells": [
  {
   "cell_type": "code",
   "execution_count": 1,
   "metadata": {},
   "outputs": [],
   "source": [
    "import os\n",
    "\n",
    "import pandas as pd\n",
    "\n",
    "from langchain_groq import ChatGroq\n",
    "from langchain_community.vectorstores import FAISS\n",
    "from langchain.embeddings import HuggingFaceEmbeddings\n",
    "from langchain_core.prompts import PromptTemplate\n",
    "from langchain.docstore.document import Document\n",
    "\n",
    "import gradio as gr\n"
   ]
  },
  {
   "cell_type": "code",
   "execution_count": 2,
   "metadata": {},
   "outputs": [],
   "source": [
    "model= ChatGroq(model_name=\"llama3-70b-8192\",  groq_api_key=\"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\")"
   ]
  },
  {
   "cell_type": "code",
   "execution_count": 3,
   "metadata": {},
   "outputs": [],
   "source": [
    "embeddings = HuggingFaceEmbeddings(\n",
    "    model_name=\"BAAI/bge-large-en\"\n",
    ")"
   ]
  },
  {
   "cell_type": "code",
   "execution_count": 16,
   "metadata": {},
   "outputs": [],
   "source": [
    "# Load the data from a CSV file\n",
    "df = pd.read_csv('/home/vardh/RAG_Chatbot_Mistral/collegereview2022.csv')\n",
    "\n",
    "\n",
    "# List to hold document instances\n",
    "documents = []\n",
    "\n",
    "# Iterate through each row in the DataFrame\n",
    "for index, row in df.iterrows():\n",
    "    # Format the page content string\n",
    "    page_content = f\"College: {row['college']} \\nReview: {row['review']}\"\n",
    "    # Create a Document instance\n",
    "    doc = Document(page_content=page_content)\n",
    "    # Append the Document instance to the list\n",
    "    documents.append(doc)\n",
    "\n",
    "vectorstore = FAISS.from_documents(\n",
    "    documents, embedding=embeddings\n",
    ")\n",
    "retriever = vectorstore.as_retriever(search_kwargs = {'k':10})"
   ]
  },
  {
   "cell_type": "code",
   "execution_count": null,
   "metadata": {},
   "outputs": [],
   "source": [
    "def get_context(message):\n",
    "\n",
    "    context = \"\\n\".join(doc.page_content for doc in retriever.get_relevant_documents(message))\n",
    "    return context\n"
   ]
  },
  {
   "cell_type": "code",
   "execution_count": null,
   "metadata": {},
   "outputs": [],
   "source": [
    "# Define the ChatPromptTemplate for user interaction\n",
    "template = \"\"\"Answer the following question from the context\n",
    "    context = {context}\n",
    "    question = {question}\n",
    "\"\"\"\n",
    "prompt = PromptTemplate(input_variables=[\"context\",\"question\"], template= template)"
   ]
  },
  {
   "cell_type": "code",
   "execution_count": null,
   "metadata": {},
   "outputs": [],
   "source": [
    "import gradio as gr\n",
    "\n",
    "def slow_echo(message, history):\n",
    "    context = get_context(message)\n",
    "    for chunk in model.stream(prompt.format(question=message, context= context)):\n",
    "        yield chunk\n",
    "\n",
    "gr.ChatInterface(slow_echo).launch()"
   ]
  }
 ],
 "metadata": {
  "kernelspec": {
   "display_name": ".venv",
   "language": "python",
   "name": "python3"
  },
  "language_info": {
   "codemirror_mode": {
    "name": "ipython",
    "version": 3
   },
   "file_extension": ".py",
   "mimetype": "text/x-python",
   "name": "python",
   "nbconvert_exporter": "python",
   "pygments_lexer": "ipython3",
   "version": "3.10.13"
  }
 },
 "nbformat": 4,
 "nbformat_minor": 2
}
